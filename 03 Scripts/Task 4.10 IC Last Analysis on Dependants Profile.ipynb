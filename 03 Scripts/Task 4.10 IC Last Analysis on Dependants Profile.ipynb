{
 "cells": [
  {
   "cell_type": "markdown",
   "id": "2bb124f3",
   "metadata": {},
   "source": [
    "### Contents\n",
    "### 1.0 import libraries\n",
    "### 2.0 import data\n",
    "### 3.0 create crosstabs for analysis in excel"
   ]
  },
  {
   "cell_type": "markdown",
   "id": "9186ca89",
   "metadata": {},
   "source": [
    "## 1.0 Import libraries"
   ]
  },
  {
   "cell_type": "code",
   "execution_count": 1,
   "id": "5ec5c577",
   "metadata": {},
   "outputs": [],
   "source": [
    "#import libraries\n",
    "import pandas as pd\n",
    "import numpy as np\n",
    "import os\n",
    "import matplotlib.pyplot as plt\n",
    "from matplotlib.ticker import ScalarFormatter\n",
    "import seaborn as sns\n",
    "import scipy"
   ]
  },
  {
   "cell_type": "markdown",
   "id": "802b7551",
   "metadata": {},
   "source": [
    "## 2.0 Import data"
   ]
  },
  {
   "cell_type": "code",
   "execution_count": 2,
   "id": "9a9bc992",
   "metadata": {},
   "outputs": [],
   "source": [
    "#create path\n",
    "path = r\"C:\\Users\\Asus 17\\OneDrive\\Desktop\\Achievement 4\\instacart_basket_analysis\""
   ]
  },
  {
   "cell_type": "code",
   "execution_count": 5,
   "id": "beb8adfc",
   "metadata": {},
   "outputs": [],
   "source": [
    "#import complete dataframe\n",
    "df = pd.read_pickle(os.path.join(path, '02 Data', 'Prepared Data', 'complete_dataframe.pkl'))"
   ]
  },
  {
   "cell_type": "code",
   "execution_count": 6,
   "id": "d7e437fe",
   "metadata": {},
   "outputs": [
    {
     "data": {
      "text/html": [
       "<div>\n",
       "<style scoped>\n",
       "    .dataframe tbody tr th:only-of-type {\n",
       "        vertical-align: middle;\n",
       "    }\n",
       "\n",
       "    .dataframe tbody tr th {\n",
       "        vertical-align: top;\n",
       "    }\n",
       "\n",
       "    .dataframe thead th {\n",
       "        text-align: right;\n",
       "    }\n",
       "</style>\n",
       "<table border=\"1\" class=\"dataframe\">\n",
       "  <thead>\n",
       "    <tr style=\"text-align: right;\">\n",
       "      <th></th>\n",
       "      <th>order_id</th>\n",
       "      <th>user_id</th>\n",
       "      <th>order_number</th>\n",
       "      <th>order_day_of_week</th>\n",
       "      <th>order_hour_of_day</th>\n",
       "      <th>days_since_prior_order</th>\n",
       "      <th>product_id</th>\n",
       "      <th>add_to_cart_order</th>\n",
       "      <th>reordered</th>\n",
       "      <th>product_name</th>\n",
       "      <th>...</th>\n",
       "      <th>date_joined</th>\n",
       "      <th>n_dependants</th>\n",
       "      <th>fam_status</th>\n",
       "      <th>income</th>\n",
       "      <th>department</th>\n",
       "      <th>region</th>\n",
       "      <th>age_group</th>\n",
       "      <th>age_fam</th>\n",
       "      <th>income_range</th>\n",
       "      <th>dependants</th>\n",
       "    </tr>\n",
       "  </thead>\n",
       "  <tbody>\n",
       "    <tr>\n",
       "      <th>0</th>\n",
       "      <td>2539329</td>\n",
       "      <td>1</td>\n",
       "      <td>1</td>\n",
       "      <td>2</td>\n",
       "      <td>8</td>\n",
       "      <td>NaN</td>\n",
       "      <td>196</td>\n",
       "      <td>1</td>\n",
       "      <td>0</td>\n",
       "      <td>Soda</td>\n",
       "      <td>...</td>\n",
       "      <td>2/17/2019</td>\n",
       "      <td>3</td>\n",
       "      <td>married</td>\n",
       "      <td>40423</td>\n",
       "      <td>beverages</td>\n",
       "      <td>South</td>\n",
       "      <td>young</td>\n",
       "      <td>Younger - married</td>\n",
       "      <td>Regular income</td>\n",
       "      <td>yes</td>\n",
       "    </tr>\n",
       "    <tr>\n",
       "      <th>1</th>\n",
       "      <td>2398795</td>\n",
       "      <td>1</td>\n",
       "      <td>2</td>\n",
       "      <td>3</td>\n",
       "      <td>7</td>\n",
       "      <td>15.0</td>\n",
       "      <td>196</td>\n",
       "      <td>1</td>\n",
       "      <td>1</td>\n",
       "      <td>Soda</td>\n",
       "      <td>...</td>\n",
       "      <td>2/17/2019</td>\n",
       "      <td>3</td>\n",
       "      <td>married</td>\n",
       "      <td>40423</td>\n",
       "      <td>beverages</td>\n",
       "      <td>South</td>\n",
       "      <td>young</td>\n",
       "      <td>Younger - married</td>\n",
       "      <td>Regular income</td>\n",
       "      <td>yes</td>\n",
       "    </tr>\n",
       "    <tr>\n",
       "      <th>2</th>\n",
       "      <td>473747</td>\n",
       "      <td>1</td>\n",
       "      <td>3</td>\n",
       "      <td>3</td>\n",
       "      <td>12</td>\n",
       "      <td>21.0</td>\n",
       "      <td>196</td>\n",
       "      <td>1</td>\n",
       "      <td>1</td>\n",
       "      <td>Soda</td>\n",
       "      <td>...</td>\n",
       "      <td>2/17/2019</td>\n",
       "      <td>3</td>\n",
       "      <td>married</td>\n",
       "      <td>40423</td>\n",
       "      <td>beverages</td>\n",
       "      <td>South</td>\n",
       "      <td>young</td>\n",
       "      <td>Younger - married</td>\n",
       "      <td>Regular income</td>\n",
       "      <td>yes</td>\n",
       "    </tr>\n",
       "    <tr>\n",
       "      <th>3</th>\n",
       "      <td>2254736</td>\n",
       "      <td>1</td>\n",
       "      <td>4</td>\n",
       "      <td>4</td>\n",
       "      <td>7</td>\n",
       "      <td>29.0</td>\n",
       "      <td>196</td>\n",
       "      <td>1</td>\n",
       "      <td>1</td>\n",
       "      <td>Soda</td>\n",
       "      <td>...</td>\n",
       "      <td>2/17/2019</td>\n",
       "      <td>3</td>\n",
       "      <td>married</td>\n",
       "      <td>40423</td>\n",
       "      <td>beverages</td>\n",
       "      <td>South</td>\n",
       "      <td>young</td>\n",
       "      <td>Younger - married</td>\n",
       "      <td>Regular income</td>\n",
       "      <td>yes</td>\n",
       "    </tr>\n",
       "    <tr>\n",
       "      <th>4</th>\n",
       "      <td>431534</td>\n",
       "      <td>1</td>\n",
       "      <td>5</td>\n",
       "      <td>4</td>\n",
       "      <td>15</td>\n",
       "      <td>28.0</td>\n",
       "      <td>196</td>\n",
       "      <td>1</td>\n",
       "      <td>1</td>\n",
       "      <td>Soda</td>\n",
       "      <td>...</td>\n",
       "      <td>2/17/2019</td>\n",
       "      <td>3</td>\n",
       "      <td>married</td>\n",
       "      <td>40423</td>\n",
       "      <td>beverages</td>\n",
       "      <td>South</td>\n",
       "      <td>young</td>\n",
       "      <td>Younger - married</td>\n",
       "      <td>Regular income</td>\n",
       "      <td>yes</td>\n",
       "    </tr>\n",
       "    <tr>\n",
       "      <th>5</th>\n",
       "      <td>3367565</td>\n",
       "      <td>1</td>\n",
       "      <td>6</td>\n",
       "      <td>2</td>\n",
       "      <td>7</td>\n",
       "      <td>19.0</td>\n",
       "      <td>196</td>\n",
       "      <td>1</td>\n",
       "      <td>1</td>\n",
       "      <td>Soda</td>\n",
       "      <td>...</td>\n",
       "      <td>2/17/2019</td>\n",
       "      <td>3</td>\n",
       "      <td>married</td>\n",
       "      <td>40423</td>\n",
       "      <td>beverages</td>\n",
       "      <td>South</td>\n",
       "      <td>young</td>\n",
       "      <td>Younger - married</td>\n",
       "      <td>Regular income</td>\n",
       "      <td>yes</td>\n",
       "    </tr>\n",
       "    <tr>\n",
       "      <th>6</th>\n",
       "      <td>550135</td>\n",
       "      <td>1</td>\n",
       "      <td>7</td>\n",
       "      <td>1</td>\n",
       "      <td>9</td>\n",
       "      <td>20.0</td>\n",
       "      <td>196</td>\n",
       "      <td>1</td>\n",
       "      <td>1</td>\n",
       "      <td>Soda</td>\n",
       "      <td>...</td>\n",
       "      <td>2/17/2019</td>\n",
       "      <td>3</td>\n",
       "      <td>married</td>\n",
       "      <td>40423</td>\n",
       "      <td>beverages</td>\n",
       "      <td>South</td>\n",
       "      <td>young</td>\n",
       "      <td>Younger - married</td>\n",
       "      <td>Regular income</td>\n",
       "      <td>yes</td>\n",
       "    </tr>\n",
       "    <tr>\n",
       "      <th>7</th>\n",
       "      <td>3108588</td>\n",
       "      <td>1</td>\n",
       "      <td>8</td>\n",
       "      <td>1</td>\n",
       "      <td>14</td>\n",
       "      <td>14.0</td>\n",
       "      <td>196</td>\n",
       "      <td>2</td>\n",
       "      <td>1</td>\n",
       "      <td>Soda</td>\n",
       "      <td>...</td>\n",
       "      <td>2/17/2019</td>\n",
       "      <td>3</td>\n",
       "      <td>married</td>\n",
       "      <td>40423</td>\n",
       "      <td>beverages</td>\n",
       "      <td>South</td>\n",
       "      <td>young</td>\n",
       "      <td>Younger - married</td>\n",
       "      <td>Regular income</td>\n",
       "      <td>yes</td>\n",
       "    </tr>\n",
       "    <tr>\n",
       "      <th>8</th>\n",
       "      <td>2295261</td>\n",
       "      <td>1</td>\n",
       "      <td>9</td>\n",
       "      <td>1</td>\n",
       "      <td>16</td>\n",
       "      <td>0.0</td>\n",
       "      <td>196</td>\n",
       "      <td>4</td>\n",
       "      <td>1</td>\n",
       "      <td>Soda</td>\n",
       "      <td>...</td>\n",
       "      <td>2/17/2019</td>\n",
       "      <td>3</td>\n",
       "      <td>married</td>\n",
       "      <td>40423</td>\n",
       "      <td>beverages</td>\n",
       "      <td>South</td>\n",
       "      <td>young</td>\n",
       "      <td>Younger - married</td>\n",
       "      <td>Regular income</td>\n",
       "      <td>yes</td>\n",
       "    </tr>\n",
       "    <tr>\n",
       "      <th>9</th>\n",
       "      <td>2550362</td>\n",
       "      <td>1</td>\n",
       "      <td>10</td>\n",
       "      <td>4</td>\n",
       "      <td>8</td>\n",
       "      <td>30.0</td>\n",
       "      <td>196</td>\n",
       "      <td>1</td>\n",
       "      <td>1</td>\n",
       "      <td>Soda</td>\n",
       "      <td>...</td>\n",
       "      <td>2/17/2019</td>\n",
       "      <td>3</td>\n",
       "      <td>married</td>\n",
       "      <td>40423</td>\n",
       "      <td>beverages</td>\n",
       "      <td>South</td>\n",
       "      <td>young</td>\n",
       "      <td>Younger - married</td>\n",
       "      <td>Regular income</td>\n",
       "      <td>yes</td>\n",
       "    </tr>\n",
       "  </tbody>\n",
       "</table>\n",
       "<p>10 rows × 36 columns</p>\n",
       "</div>"
      ],
      "text/plain": [
       "   order_id  user_id  order_number  order_day_of_week  order_hour_of_day  \\\n",
       "0   2539329        1             1                  2                  8   \n",
       "1   2398795        1             2                  3                  7   \n",
       "2    473747        1             3                  3                 12   \n",
       "3   2254736        1             4                  4                  7   \n",
       "4    431534        1             5                  4                 15   \n",
       "5   3367565        1             6                  2                  7   \n",
       "6    550135        1             7                  1                  9   \n",
       "7   3108588        1             8                  1                 14   \n",
       "8   2295261        1             9                  1                 16   \n",
       "9   2550362        1            10                  4                  8   \n",
       "\n",
       "   days_since_prior_order  product_id  add_to_cart_order  reordered  \\\n",
       "0                     NaN         196                  1          0   \n",
       "1                    15.0         196                  1          1   \n",
       "2                    21.0         196                  1          1   \n",
       "3                    29.0         196                  1          1   \n",
       "4                    28.0         196                  1          1   \n",
       "5                    19.0         196                  1          1   \n",
       "6                    20.0         196                  1          1   \n",
       "7                    14.0         196                  2          1   \n",
       "8                     0.0         196                  4          1   \n",
       "9                    30.0         196                  1          1   \n",
       "\n",
       "  product_name  ...  date_joined  n_dependants  fam_status income department  \\\n",
       "0         Soda  ...    2/17/2019             3     married  40423  beverages   \n",
       "1         Soda  ...    2/17/2019             3     married  40423  beverages   \n",
       "2         Soda  ...    2/17/2019             3     married  40423  beverages   \n",
       "3         Soda  ...    2/17/2019             3     married  40423  beverages   \n",
       "4         Soda  ...    2/17/2019             3     married  40423  beverages   \n",
       "5         Soda  ...    2/17/2019             3     married  40423  beverages   \n",
       "6         Soda  ...    2/17/2019             3     married  40423  beverages   \n",
       "7         Soda  ...    2/17/2019             3     married  40423  beverages   \n",
       "8         Soda  ...    2/17/2019             3     married  40423  beverages   \n",
       "9         Soda  ...    2/17/2019             3     married  40423  beverages   \n",
       "\n",
       "  region age_group            age_fam    income_range  dependants  \n",
       "0  South     young  Younger - married  Regular income         yes  \n",
       "1  South     young  Younger - married  Regular income         yes  \n",
       "2  South     young  Younger - married  Regular income         yes  \n",
       "3  South     young  Younger - married  Regular income         yes  \n",
       "4  South     young  Younger - married  Regular income         yes  \n",
       "5  South     young  Younger - married  Regular income         yes  \n",
       "6  South     young  Younger - married  Regular income         yes  \n",
       "7  South     young  Younger - married  Regular income         yes  \n",
       "8  South     young  Younger - married  Regular income         yes  \n",
       "9  South     young  Younger - married  Regular income         yes  \n",
       "\n",
       "[10 rows x 36 columns]"
      ]
     },
     "execution_count": 6,
     "metadata": {},
     "output_type": "execute_result"
    }
   ],
   "source": [
    "#check it out\n",
    "df.head(10)"
   ]
  },
  {
   "cell_type": "code",
   "execution_count": 7,
   "id": "743ac766",
   "metadata": {},
   "outputs": [
    {
     "data": {
      "text/plain": [
       "Index(['order_id', 'user_id', 'order_number', 'order_day_of_week',\n",
       "       'order_hour_of_day', 'days_since_prior_order', 'product_id',\n",
       "       'add_to_cart_order', 'reordered', 'product_name', 'aisle_id',\n",
       "       'department_id', 'prices', 'price_range_loc', 'busiest_day',\n",
       "       'busiest_days', 'busiest_period_of_day', 'max_order', 'loyalty_flag',\n",
       "       'mean_price', 'spending_flag', 'median_days_since_prior_order',\n",
       "       'frequency_flag', 'gender', 'state', 'age', 'date_joined',\n",
       "       'n_dependants', 'fam_status', 'income', 'department', 'region',\n",
       "       'age_group', 'age_fam', 'income_range', 'dependants'],\n",
       "      dtype='object')"
      ]
     },
     "execution_count": 7,
     "metadata": {},
     "output_type": "execute_result"
    }
   ],
   "source": [
    "df.columns"
   ]
  },
  {
   "cell_type": "markdown",
   "id": "b7f9e4a7",
   "metadata": {},
   "source": [
    "## 3.0 Create crosstabs for analysis in excel"
   ]
  },
  {
   "cell_type": "code",
   "execution_count": 24,
   "id": "37d7970f",
   "metadata": {},
   "outputs": [],
   "source": [
    "#make a crosstab of loyalty flag and dependants\n",
    "\n",
    "dep_loy = pd.crosstab(df['loyalty_flag'], df['dependants']).sort_values(by = 'yes', ascending = False)"
   ]
  },
  {
   "cell_type": "code",
   "execution_count": 25,
   "id": "a81af3fb",
   "metadata": {},
   "outputs": [],
   "source": [
    "#sort the columns\n",
    "\n",
    "dep_loy = dep_loy[['yes', 'no']]\n"
   ]
  },
  {
   "cell_type": "code",
   "execution_count": 12,
   "id": "1a22ef0f",
   "metadata": {},
   "outputs": [],
   "source": [
    "#send it to excel\n",
    "\n",
    "dep_loy.to_clipboard()"
   ]
  },
  {
   "cell_type": "code",
   "execution_count": 16,
   "id": "3a988d7d",
   "metadata": {},
   "outputs": [],
   "source": [
    "#make a crosstab of frequency_flag and dependants\n",
    "dep_fre = pd.crosstab(df['frequency_flag'], df['dependants']).sort_values(by = 'yes', ascending = False)"
   ]
  },
  {
   "cell_type": "code",
   "execution_count": 18,
   "id": "fcc4cfe6",
   "metadata": {},
   "outputs": [],
   "source": [
    "#sort the columns\n",
    "dep_fre = dep_fre[['yes', 'no']]"
   ]
  },
  {
   "cell_type": "code",
   "execution_count": 19,
   "id": "c237ce6d",
   "metadata": {},
   "outputs": [],
   "source": [
    "#send it to excel\n",
    "dep_fre.to_clipboard()"
   ]
  },
  {
   "cell_type": "code",
   "execution_count": 20,
   "id": "d547f850",
   "metadata": {},
   "outputs": [
    {
     "data": {
      "text/html": [
       "<div>\n",
       "<style scoped>\n",
       "    .dataframe tbody tr th:only-of-type {\n",
       "        vertical-align: middle;\n",
       "    }\n",
       "\n",
       "    .dataframe tbody tr th {\n",
       "        vertical-align: top;\n",
       "    }\n",
       "\n",
       "    .dataframe thead tr th {\n",
       "        text-align: left;\n",
       "    }\n",
       "\n",
       "    .dataframe thead tr:last-of-type th {\n",
       "        text-align: right;\n",
       "    }\n",
       "</style>\n",
       "<table border=\"1\" class=\"dataframe\">\n",
       "  <thead>\n",
       "    <tr>\n",
       "      <th></th>\n",
       "      <th colspan=\"3\" halign=\"left\">prices</th>\n",
       "    </tr>\n",
       "    <tr>\n",
       "      <th></th>\n",
       "      <th>min</th>\n",
       "      <th>max</th>\n",
       "      <th>mean</th>\n",
       "    </tr>\n",
       "    <tr>\n",
       "      <th>dependants</th>\n",
       "      <th></th>\n",
       "      <th></th>\n",
       "      <th></th>\n",
       "    </tr>\n",
       "  </thead>\n",
       "  <tbody>\n",
       "    <tr>\n",
       "      <th>no</th>\n",
       "      <td>1.0</td>\n",
       "      <td>25.0</td>\n",
       "      <td>7.789550</td>\n",
       "    </tr>\n",
       "    <tr>\n",
       "      <th>yes</th>\n",
       "      <td>1.0</td>\n",
       "      <td>25.0</td>\n",
       "      <td>7.790937</td>\n",
       "    </tr>\n",
       "  </tbody>\n",
       "</table>\n",
       "</div>"
      ],
      "text/plain": [
       "           prices                \n",
       "              min   max      mean\n",
       "dependants                       \n",
       "no            1.0  25.0  7.789550\n",
       "yes           1.0  25.0  7.790937"
      ]
     },
     "execution_count": 20,
     "metadata": {},
     "output_type": "execute_result"
    }
   ],
   "source": [
    "#check out the stats on price by dependants\n",
    "df.groupby('dependants').agg({'prices' : ['min', 'max', 'mean']})"
   ]
  },
  {
   "cell_type": "code",
   "execution_count": 21,
   "id": "0cf2ca1a",
   "metadata": {},
   "outputs": [
    {
     "data": {
      "text/html": [
       "<div>\n",
       "<style scoped>\n",
       "    .dataframe tbody tr th:only-of-type {\n",
       "        vertical-align: middle;\n",
       "    }\n",
       "\n",
       "    .dataframe tbody tr th {\n",
       "        vertical-align: top;\n",
       "    }\n",
       "\n",
       "    .dataframe thead tr th {\n",
       "        text-align: left;\n",
       "    }\n",
       "\n",
       "    .dataframe thead tr:last-of-type th {\n",
       "        text-align: right;\n",
       "    }\n",
       "</style>\n",
       "<table border=\"1\" class=\"dataframe\">\n",
       "  <thead>\n",
       "    <tr>\n",
       "      <th></th>\n",
       "      <th colspan=\"3\" halign=\"left\">days_since_prior_order</th>\n",
       "    </tr>\n",
       "    <tr>\n",
       "      <th></th>\n",
       "      <th>min</th>\n",
       "      <th>max</th>\n",
       "      <th>mean</th>\n",
       "    </tr>\n",
       "    <tr>\n",
       "      <th>dependants</th>\n",
       "      <th></th>\n",
       "      <th></th>\n",
       "      <th></th>\n",
       "    </tr>\n",
       "  </thead>\n",
       "  <tbody>\n",
       "    <tr>\n",
       "      <th>no</th>\n",
       "      <td>0.0</td>\n",
       "      <td>30.0</td>\n",
       "      <td>10.791951</td>\n",
       "    </tr>\n",
       "    <tr>\n",
       "      <th>yes</th>\n",
       "      <td>0.0</td>\n",
       "      <td>30.0</td>\n",
       "      <td>10.816416</td>\n",
       "    </tr>\n",
       "  </tbody>\n",
       "</table>\n",
       "</div>"
      ],
      "text/plain": [
       "           days_since_prior_order                 \n",
       "                              min   max       mean\n",
       "dependants                                        \n",
       "no                            0.0  30.0  10.791951\n",
       "yes                           0.0  30.0  10.816416"
      ]
     },
     "execution_count": 21,
     "metadata": {},
     "output_type": "execute_result"
    }
   ],
   "source": [
    "#check out the stats on frequency by dependants\n",
    "df.groupby('dependants').agg({'days_since_prior_order' : ['min', 'max', 'mean']})"
   ]
  },
  {
   "cell_type": "code",
   "execution_count": 22,
   "id": "db202757",
   "metadata": {},
   "outputs": [
    {
     "data": {
      "text/html": [
       "<div>\n",
       "<style scoped>\n",
       "    .dataframe tbody tr th:only-of-type {\n",
       "        vertical-align: middle;\n",
       "    }\n",
       "\n",
       "    .dataframe tbody tr th {\n",
       "        vertical-align: top;\n",
       "    }\n",
       "\n",
       "    .dataframe thead tr th {\n",
       "        text-align: left;\n",
       "    }\n",
       "\n",
       "    .dataframe thead tr:last-of-type th {\n",
       "        text-align: right;\n",
       "    }\n",
       "</style>\n",
       "<table border=\"1\" class=\"dataframe\">\n",
       "  <thead>\n",
       "    <tr>\n",
       "      <th></th>\n",
       "      <th colspan=\"3\" halign=\"left\">order_number</th>\n",
       "    </tr>\n",
       "    <tr>\n",
       "      <th></th>\n",
       "      <th>min</th>\n",
       "      <th>max</th>\n",
       "      <th>mean</th>\n",
       "    </tr>\n",
       "    <tr>\n",
       "      <th>dependants</th>\n",
       "      <th></th>\n",
       "      <th></th>\n",
       "      <th></th>\n",
       "    </tr>\n",
       "  </thead>\n",
       "  <tbody>\n",
       "    <tr>\n",
       "      <th>no</th>\n",
       "      <td>1</td>\n",
       "      <td>99</td>\n",
       "      <td>17.957922</td>\n",
       "    </tr>\n",
       "    <tr>\n",
       "      <th>yes</th>\n",
       "      <td>1</td>\n",
       "      <td>99</td>\n",
       "      <td>17.792891</td>\n",
       "    </tr>\n",
       "  </tbody>\n",
       "</table>\n",
       "</div>"
      ],
      "text/plain": [
       "           order_number               \n",
       "                    min max       mean\n",
       "dependants                            \n",
       "no                    1  99  17.957922\n",
       "yes                   1  99  17.792891"
      ]
     },
     "execution_count": 22,
     "metadata": {},
     "output_type": "execute_result"
    }
   ],
   "source": [
    "#check out the stats on order number by dependants\n",
    "df.groupby('dependants').agg({'order_number' : ['min', 'max', 'mean']})"
   ]
  },
  {
   "cell_type": "code",
   "execution_count": 26,
   "id": "61224a0b",
   "metadata": {},
   "outputs": [],
   "source": [
    "#make a crosstab of spending flag and dependants\n",
    "\n",
    "dep_spen = pd.crosstab(df['spending_flag'], df['dependants']).sort_values(by = 'yes', ascending = False)"
   ]
  },
  {
   "cell_type": "code",
   "execution_count": 27,
   "id": "21327c14",
   "metadata": {},
   "outputs": [],
   "source": [
    "#sort the columns\n",
    "\n",
    "dep_spen = dep_spen[['yes', 'no']]"
   ]
  },
  {
   "cell_type": "code",
   "execution_count": 28,
   "id": "70525aa2",
   "metadata": {},
   "outputs": [],
   "source": [
    "#send it to excel\n",
    "dep_spen.to_clipboard()"
   ]
  },
  {
   "cell_type": "code",
   "execution_count": 42,
   "id": "08ea6149",
   "metadata": {},
   "outputs": [],
   "source": [
    "#get the values of orders per day for yes and no dependants\n",
    "dep_days = df.groupby('dependants')['order_day_of_week'].value_counts(dropna = False).sort_index()"
   ]
  },
  {
   "cell_type": "code",
   "execution_count": 43,
   "id": "5b5bc7ef",
   "metadata": {},
   "outputs": [
    {
     "data": {
      "text/plain": [
       "dependants  order_day_of_week\n",
       "no          0                    1477078\n",
       "            1                    1362350\n",
       "            2                    1002581\n",
       "            3                     917042\n",
       "            4                     905259\n",
       "            5                    1014174\n",
       "            6                    1061197\n",
       "yes         0                    4431532\n",
       "            1                    4049336\n",
       "            2                    3022125\n",
       "            3                    2752493\n",
       "            4                    2719735\n",
       "            5                    3019555\n",
       "            6                    3230107\n",
       "Name: count, dtype: int64"
      ]
     },
     "execution_count": 43,
     "metadata": {},
     "output_type": "execute_result"
    }
   ],
   "source": [
    "dep_days"
   ]
  },
  {
   "cell_type": "code",
   "execution_count": 41,
   "id": "daec4706",
   "metadata": {},
   "outputs": [],
   "source": [
    "# send it to excel\n",
    "dep_days.to_clipboard()"
   ]
  },
  {
   "cell_type": "code",
   "execution_count": 44,
   "id": "863bbca1",
   "metadata": {},
   "outputs": [],
   "source": [
    "#get the values of orders per hour for yes and no dependants\n",
    "dep_hour = df.groupby('dependants')['order_hour_of_day'].value_counts(dropna = False).sort_index()"
   ]
  },
  {
   "cell_type": "code",
   "execution_count": 45,
   "id": "425cd27c",
   "metadata": {},
   "outputs": [
    {
     "data": {
      "text/plain": [
       "dependants  order_hour_of_day\n",
       "no          0                      51434\n",
       "            1                      26731\n",
       "            2                      16732\n",
       "            3                      12375\n",
       "            4                      12205\n",
       "            5                      21284\n",
       "            6                      70870\n",
       "            7                     220071\n",
       "            8                     415947\n",
       "            9                     589784\n",
       "            10                    655908\n",
       "            11                    651573\n",
       "            12                    620072\n",
       "            13                    631170\n",
       "            14                    639863\n",
       "            15                    636775\n",
       "            16                    610454\n",
       "            17                    496294\n",
       "            18                    382100\n",
       "            19                    299333\n",
       "            20                    234578\n",
       "            21                    190981\n",
       "            22                    154326\n",
       "            23                     98821\n",
       "yes         0                     156608\n",
       "            1                      82890\n",
       "            2                      48959\n",
       "            3                      36421\n",
       "            4                      38558\n",
       "            5                      63134\n",
       "            6                     210143\n",
       "            7                     643142\n",
       "            8                    1243163\n",
       "            9                    1773827\n",
       "            10                   1993836\n",
       "            11                   1963307\n",
       "            12                   1875723\n",
       "            13                   1908106\n",
       "            14                   1928040\n",
       "            15                   1899191\n",
       "            16                   1803227\n",
       "            17                   1486051\n",
       "            18                   1169084\n",
       "            19                    894545\n",
       "            20                    696331\n",
       "            21                    572130\n",
       "            22                    452734\n",
       "            23                    285733\n",
       "Name: count, dtype: int64"
      ]
     },
     "execution_count": 45,
     "metadata": {},
     "output_type": "execute_result"
    }
   ],
   "source": [
    "dep_hour"
   ]
  },
  {
   "cell_type": "code",
   "execution_count": 46,
   "id": "ec77a52e",
   "metadata": {},
   "outputs": [],
   "source": [
    "#send it to excel\n",
    "dep_hour.to_clipboard()"
   ]
  },
  {
   "cell_type": "code",
   "execution_count": 48,
   "id": "d7fbc9ac",
   "metadata": {},
   "outputs": [],
   "source": [
    "#make a crosstab of price range and dependants\n",
    "\n",
    "dep_price = pd.crosstab(df['price_range_loc'], df['dependants']).sort_values(by = 'yes', ascending = False)"
   ]
  },
  {
   "cell_type": "code",
   "execution_count": 49,
   "id": "6bca300e",
   "metadata": {},
   "outputs": [],
   "source": [
    "#sort the columns\n",
    "\n",
    "dep_price = dep_price[['yes', 'no']]"
   ]
  },
  {
   "cell_type": "code",
   "execution_count": 50,
   "id": "daee006c",
   "metadata": {},
   "outputs": [],
   "source": [
    "#send it to excel\n",
    "dep_price.to_clipboard()"
   ]
  },
  {
   "cell_type": "code",
   "execution_count": 54,
   "id": "6f79af99",
   "metadata": {},
   "outputs": [],
   "source": [
    "#make a crosstab of gender and dependants\n",
    "\n",
    "dep_gen = pd.crosstab(df['gender'], df['dependants']).sort_values(by = 'yes', ascending = False)"
   ]
  },
  {
   "cell_type": "code",
   "execution_count": 55,
   "id": "0a2abeab",
   "metadata": {},
   "outputs": [],
   "source": [
    "#sort the columns\n",
    "\n",
    "dep_gen = dep_gen[['yes', 'no']]"
   ]
  },
  {
   "cell_type": "code",
   "execution_count": 56,
   "id": "9869c29b",
   "metadata": {},
   "outputs": [],
   "source": [
    "#send it to excel\n",
    "dep_gen.to_clipboard()"
   ]
  },
  {
   "cell_type": "code",
   "execution_count": 57,
   "id": "51903367",
   "metadata": {},
   "outputs": [],
   "source": [
    "#make a crosstab of age group and dependants\n",
    "\n",
    "dep_age = pd.crosstab(df['age_group'], df['dependants']).sort_values(by = 'yes', ascending = False)"
   ]
  },
  {
   "cell_type": "code",
   "execution_count": 58,
   "id": "3f391f88",
   "metadata": {},
   "outputs": [],
   "source": [
    "#sort the columns\n",
    "\n",
    "dep_age = dep_age[['yes', 'no']]"
   ]
  },
  {
   "cell_type": "code",
   "execution_count": 59,
   "id": "8453f440",
   "metadata": {},
   "outputs": [],
   "source": [
    "#send it to excel\n",
    "dep_age.to_clipboard()"
   ]
  },
  {
   "cell_type": "code",
   "execution_count": 60,
   "id": "1aa4cfd7",
   "metadata": {},
   "outputs": [],
   "source": [
    "#make a crosstab of income and dependants\n",
    "\n",
    "dep_inc = pd.crosstab(df['income_range'], df['dependants']).sort_values(by = 'yes', ascending = False)"
   ]
  },
  {
   "cell_type": "code",
   "execution_count": 61,
   "id": "7478ce6b",
   "metadata": {},
   "outputs": [],
   "source": [
    "#sort the columns\n",
    "\n",
    "dep_inc = dep_inc[['yes', 'no']]"
   ]
  },
  {
   "cell_type": "code",
   "execution_count": 62,
   "id": "3e67caa7",
   "metadata": {},
   "outputs": [],
   "source": [
    "#send it to excel\n",
    "dep_inc.to_clipboard()"
   ]
  },
  {
   "cell_type": "code",
   "execution_count": 63,
   "id": "a7a949ab",
   "metadata": {},
   "outputs": [],
   "source": [
    "#make a crosstab of department and dependants\n",
    "\n",
    "dep_depts = pd.crosstab(df['department'], df['dependants']).sort_values(by = 'yes', ascending = False)"
   ]
  },
  {
   "cell_type": "code",
   "execution_count": 65,
   "id": "7600b0c2",
   "metadata": {},
   "outputs": [],
   "source": [
    "#sort the columns\n",
    "\n",
    "dep_depts = dep_depts[['yes', 'no']]"
   ]
  },
  {
   "cell_type": "code",
   "execution_count": 66,
   "id": "cf67acf1",
   "metadata": {},
   "outputs": [],
   "source": [
    "#send it to excel\n",
    "dep_depts.to_clipboard()"
   ]
  },
  {
   "cell_type": "code",
   "execution_count": null,
   "id": "061a556d",
   "metadata": {},
   "outputs": [],
   "source": []
  }
 ],
 "metadata": {
  "kernelspec": {
   "display_name": "Python 3 (ipykernel)",
   "language": "python",
   "name": "python3"
  },
  "language_info": {
   "codemirror_mode": {
    "name": "ipython",
    "version": 3
   },
   "file_extension": ".py",
   "mimetype": "text/x-python",
   "name": "python",
   "nbconvert_exporter": "python",
   "pygments_lexer": "ipython3",
   "version": "3.11.4"
  }
 },
 "nbformat": 4,
 "nbformat_minor": 5
}
