{
 "cells": [
  {
   "cell_type": "markdown",
   "id": "7caf0960",
   "metadata": {},
   "source": [
    "# IC Importing Libraries and Python Data Types\n"
   ]
  },
  {
   "cell_type": "markdown",
   "id": "5401cf8e",
   "metadata": {},
   "source": [
    "### Contents"
   ]
  },
  {
   "cell_type": "markdown",
   "id": "2ea9403b",
   "metadata": {},
   "source": [
    "#### 0.1 Importing Libraries"
   ]
  },
  {
   "cell_type": "markdown",
   "id": "7b797407",
   "metadata": {},
   "source": [
    "#### 0.2 Learning Data Types"
   ]
  },
  {
   "cell_type": "markdown",
   "id": "c6f68884",
   "metadata": {},
   "source": [
    "## 0.1 Importing libraries"
   ]
  },
  {
   "cell_type": "code",
   "execution_count": 1,
   "id": "21207532",
   "metadata": {},
   "outputs": [],
   "source": [
    "# Import libraries\n",
    "import pandas as pd\n",
    "import numpy as np\n",
    "import os"
   ]
  },
  {
   "cell_type": "markdown",
   "id": "c957a092",
   "metadata": {},
   "source": [
    "## 0.2 Data types"
   ]
  },
  {
   "cell_type": "code",
   "execution_count": 2,
   "id": "b1c2eb1c",
   "metadata": {},
   "outputs": [],
   "source": [
    "x = 20"
   ]
  },
  {
   "cell_type": "code",
   "execution_count": 3,
   "id": "de9770e2",
   "metadata": {},
   "outputs": [],
   "source": [
    "y = 5"
   ]
  },
  {
   "cell_type": "code",
   "execution_count": 4,
   "id": "329b4d74",
   "metadata": {},
   "outputs": [
    {
     "data": {
      "text/plain": [
       "100"
      ]
     },
     "execution_count": 4,
     "metadata": {},
     "output_type": "execute_result"
    }
   ],
   "source": [
    "x * y"
   ]
  },
  {
   "cell_type": "code",
   "execution_count": 5,
   "id": "e46ca4f5",
   "metadata": {},
   "outputs": [
    {
     "name": "stdout",
     "output_type": "stream",
     "text": [
      "100\n"
     ]
    }
   ],
   "source": [
    "\n",
    "\n",
    "print(x * y)"
   ]
  },
  {
   "cell_type": "code",
   "execution_count": 6,
   "id": "7d3bad8b",
   "metadata": {},
   "outputs": [
    {
     "data": {
      "text/plain": [
       "100"
      ]
     },
     "execution_count": 6,
     "metadata": {},
     "output_type": "execute_result"
    }
   ],
   "source": [
    "x * 5"
   ]
  },
  {
   "cell_type": "code",
   "execution_count": 7,
   "id": "94893dfe",
   "metadata": {},
   "outputs": [
    {
     "data": {
      "text/plain": [
       "100"
      ]
     },
     "execution_count": 7,
     "metadata": {},
     "output_type": "execute_result"
    }
   ],
   "source": [
    "(x + y) * 4"
   ]
  },
  {
   "cell_type": "code",
   "execution_count": 8,
   "id": "c6e4a561",
   "metadata": {},
   "outputs": [],
   "source": [
    "a = 2.25"
   ]
  },
  {
   "cell_type": "code",
   "execution_count": 9,
   "id": "38767c57",
   "metadata": {},
   "outputs": [],
   "source": [
    "b = 2.75"
   ]
  },
  {
   "cell_type": "code",
   "execution_count": 10,
   "id": "059b71e2",
   "metadata": {},
   "outputs": [
    {
     "data": {
      "text/plain": [
       "1.2222222222222223"
      ]
     },
     "execution_count": 10,
     "metadata": {},
     "output_type": "execute_result"
    }
   ],
   "source": [
    "b / a"
   ]
  },
  {
   "cell_type": "code",
   "execution_count": 11,
   "id": "c05fe92c",
   "metadata": {},
   "outputs": [],
   "source": [
    "c = \"a\""
   ]
  },
  {
   "cell_type": "code",
   "execution_count": 12,
   "id": "c34eebd0",
   "metadata": {},
   "outputs": [],
   "source": [
    "d = \"bout\""
   ]
  },
  {
   "cell_type": "code",
   "execution_count": 13,
   "id": "5990ed15",
   "metadata": {},
   "outputs": [
    {
     "data": {
      "text/plain": [
       "'about'"
      ]
     },
     "execution_count": 13,
     "metadata": {},
     "output_type": "execute_result"
    }
   ],
   "source": [
    "c + d"
   ]
  },
  {
   "cell_type": "code",
   "execution_count": 14,
   "id": "689e50de",
   "metadata": {},
   "outputs": [],
   "source": [
    "e = \"I like moving things \""
   ]
  },
  {
   "cell_type": "code",
   "execution_count": 15,
   "id": "41167aa5",
   "metadata": {},
   "outputs": [],
   "source": [
    "f = \"Timey wimey \""
   ]
  },
  {
   "cell_type": "code",
   "execution_count": 16,
   "id": "d1661cc5",
   "metadata": {},
   "outputs": [],
   "source": [
    "g = \"wibley wobley \""
   ]
  },
  {
   "cell_type": "code",
   "execution_count": 17,
   "id": "22cbd168",
   "metadata": {},
   "outputs": [],
   "source": [
    "h = \"things are my favourite to move \""
   ]
  },
  {
   "cell_type": "code",
   "execution_count": 18,
   "id": "2fe21dc0",
   "metadata": {},
   "outputs": [],
   "source": [
    "i = \". \""
   ]
  },
  {
   "cell_type": "code",
   "execution_count": 19,
   "id": "1291883c",
   "metadata": {},
   "outputs": [
    {
     "data": {
      "text/plain": [
       "'I like moving things about. Timey wimey wibley wobley things are my favourite to move about. '"
      ]
     },
     "execution_count": 19,
     "metadata": {},
     "output_type": "execute_result"
    }
   ],
   "source": [
    "e + c + d + i + f + g + h + c + d + i"
   ]
  },
  {
   "cell_type": "code",
   "execution_count": 20,
   "id": "b7732411",
   "metadata": {},
   "outputs": [
    {
     "data": {
      "text/plain": [
       "'aboutaboutaboutaboutaboutaboutaboutaboutaboutaboutaboutaboutaboutaboutaboutaboutaboutaboutaboutaboutaboutaboutaboutaboutaboutaboutaboutaboutaboutaboutaboutaboutaboutaboutaboutaboutaboutaboutaboutaboutaboutaboutaboutaboutaboutaboutaboutaboutaboutaboutaboutaboutaboutaboutaboutaboutaboutaboutaboutaboutaboutaboutaboutaboutaboutaboutaboutaboutaboutaboutaboutaboutaboutaboutaboutaboutaboutaboutaboutaboutaboutaboutaboutaboutaboutaboutaboutaboutaboutaboutaboutaboutaboutaboutaboutaboutaboutaboutaboutabout'"
      ]
     },
     "execution_count": 20,
     "metadata": {},
     "output_type": "execute_result"
    }
   ],
   "source": [
    "(c + d) * 100"
   ]
  },
  {
   "cell_type": "code",
   "execution_count": null,
   "id": "1810e6d5",
   "metadata": {},
   "outputs": [],
   "source": []
  }
 ],
 "metadata": {
  "kernelspec": {
   "display_name": "Python 3 (ipykernel)",
   "language": "python",
   "name": "python3"
  },
  "language_info": {
   "codemirror_mode": {
    "name": "ipython",
    "version": 3
   },
   "file_extension": ".py",
   "mimetype": "text/x-python",
   "name": "python",
   "nbconvert_exporter": "python",
   "pygments_lexer": "ipython3",
   "version": "3.11.4"
  }
 },
 "nbformat": 4,
 "nbformat_minor": 5
}
