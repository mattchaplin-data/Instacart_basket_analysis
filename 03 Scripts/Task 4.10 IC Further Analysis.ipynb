{
 "cells": [
  {
   "cell_type": "markdown",
   "id": "248254d2",
   "metadata": {},
   "source": [
    "# 4.10 IC further analyis"
   ]
  },
  {
   "cell_type": "markdown",
   "id": "46f7dec2",
   "metadata": {},
   "source": [
    "###  Contents"
   ]
  },
  {
   "cell_type": "markdown",
   "id": "a90e08b3",
   "metadata": {},
   "source": [
    "### 1.0 Import Libraries"
   ]
  },
  {
   "cell_type": "markdown",
   "id": "9dff5a32",
   "metadata": {},
   "source": [
    "### 2.0 Import data"
   ]
  },
  {
   "cell_type": "markdown",
   "id": "ef5e7c7d",
   "metadata": {},
   "source": [
    "### 3.0 Profile Analysis"
   ]
  },
  {
   "cell_type": "markdown",
   "id": "50719724",
   "metadata": {},
   "source": [
    "## 1.0 Import libraries\n"
   ]
  },
  {
   "cell_type": "code",
   "execution_count": 2,
   "id": "e1a735b4",
   "metadata": {},
   "outputs": [],
   "source": [
    "#import libraries\n",
    "import pandas as pd\n",
    "import numpy as np\n",
    "import os\n",
    "import matplotlib.pyplot as plt\n",
    "from matplotlib.ticker import ScalarFormatter\n",
    "import seaborn as sns\n",
    "import scipy"
   ]
  },
  {
   "cell_type": "markdown",
   "id": "f2880f1e",
   "metadata": {},
   "source": [
    "## 2.0 Import data\n"
   ]
  },
  {
   "cell_type": "code",
   "execution_count": 3,
   "id": "ce490a49",
   "metadata": {},
   "outputs": [],
   "source": [
    "# create path\n",
    "path = r\"C:\\Users\\Asus 17\\OneDrive\\Desktop\\Achievement 4\\instacart_basket_analysis\""
   ]
  },
  {
   "cell_type": "code",
   "execution_count": 4,
   "id": "1cff065f",
   "metadata": {},
   "outputs": [],
   "source": [
    "df = pd.read_pickle(os.path.join(path, '02 Data', 'Prepared Data', 'orders_products_customers_without_low_activity.pkl'))"
   ]
  },
  {
   "cell_type": "code",
   "execution_count": 5,
   "id": "43e090ea",
   "metadata": {},
   "outputs": [
    {
     "name": "stdout",
     "output_type": "stream",
     "text": [
      "df shape:  (30964564, 33)\n"
     ]
    },
    {
     "data": {
      "text/html": [
       "<div>\n",
       "<style scoped>\n",
       "    .dataframe tbody tr th:only-of-type {\n",
       "        vertical-align: middle;\n",
       "    }\n",
       "\n",
       "    .dataframe tbody tr th {\n",
       "        vertical-align: top;\n",
       "    }\n",
       "\n",
       "    .dataframe thead th {\n",
       "        text-align: right;\n",
       "    }\n",
       "</style>\n",
       "<table border=\"1\" class=\"dataframe\">\n",
       "  <thead>\n",
       "    <tr style=\"text-align: right;\">\n",
       "      <th></th>\n",
       "      <th>order_id</th>\n",
       "      <th>user_id</th>\n",
       "      <th>order_number</th>\n",
       "      <th>order_day_of_week</th>\n",
       "      <th>order_hour_of_day</th>\n",
       "      <th>days_since_prior_order</th>\n",
       "      <th>product_id</th>\n",
       "      <th>add_to_cart_order</th>\n",
       "      <th>reordered</th>\n",
       "      <th>product_name</th>\n",
       "      <th>...</th>\n",
       "      <th>gender</th>\n",
       "      <th>state</th>\n",
       "      <th>age</th>\n",
       "      <th>date_joined</th>\n",
       "      <th>n_dependants</th>\n",
       "      <th>fam_status</th>\n",
       "      <th>income</th>\n",
       "      <th>department</th>\n",
       "      <th>region</th>\n",
       "      <th>age_group</th>\n",
       "    </tr>\n",
       "  </thead>\n",
       "  <tbody>\n",
       "    <tr>\n",
       "      <th>0</th>\n",
       "      <td>2539329</td>\n",
       "      <td>1</td>\n",
       "      <td>1</td>\n",
       "      <td>2</td>\n",
       "      <td>8</td>\n",
       "      <td>NaN</td>\n",
       "      <td>196</td>\n",
       "      <td>1</td>\n",
       "      <td>0</td>\n",
       "      <td>Soda</td>\n",
       "      <td>...</td>\n",
       "      <td>Female</td>\n",
       "      <td>Alabama</td>\n",
       "      <td>31</td>\n",
       "      <td>2/17/2019</td>\n",
       "      <td>3</td>\n",
       "      <td>married</td>\n",
       "      <td>40423</td>\n",
       "      <td>beverages</td>\n",
       "      <td>South</td>\n",
       "      <td>young</td>\n",
       "    </tr>\n",
       "    <tr>\n",
       "      <th>1</th>\n",
       "      <td>2398795</td>\n",
       "      <td>1</td>\n",
       "      <td>2</td>\n",
       "      <td>3</td>\n",
       "      <td>7</td>\n",
       "      <td>15.0</td>\n",
       "      <td>196</td>\n",
       "      <td>1</td>\n",
       "      <td>1</td>\n",
       "      <td>Soda</td>\n",
       "      <td>...</td>\n",
       "      <td>Female</td>\n",
       "      <td>Alabama</td>\n",
       "      <td>31</td>\n",
       "      <td>2/17/2019</td>\n",
       "      <td>3</td>\n",
       "      <td>married</td>\n",
       "      <td>40423</td>\n",
       "      <td>beverages</td>\n",
       "      <td>South</td>\n",
       "      <td>young</td>\n",
       "    </tr>\n",
       "    <tr>\n",
       "      <th>2</th>\n",
       "      <td>473747</td>\n",
       "      <td>1</td>\n",
       "      <td>3</td>\n",
       "      <td>3</td>\n",
       "      <td>12</td>\n",
       "      <td>21.0</td>\n",
       "      <td>196</td>\n",
       "      <td>1</td>\n",
       "      <td>1</td>\n",
       "      <td>Soda</td>\n",
       "      <td>...</td>\n",
       "      <td>Female</td>\n",
       "      <td>Alabama</td>\n",
       "      <td>31</td>\n",
       "      <td>2/17/2019</td>\n",
       "      <td>3</td>\n",
       "      <td>married</td>\n",
       "      <td>40423</td>\n",
       "      <td>beverages</td>\n",
       "      <td>South</td>\n",
       "      <td>young</td>\n",
       "    </tr>\n",
       "    <tr>\n",
       "      <th>3</th>\n",
       "      <td>2254736</td>\n",
       "      <td>1</td>\n",
       "      <td>4</td>\n",
       "      <td>4</td>\n",
       "      <td>7</td>\n",
       "      <td>29.0</td>\n",
       "      <td>196</td>\n",
       "      <td>1</td>\n",
       "      <td>1</td>\n",
       "      <td>Soda</td>\n",
       "      <td>...</td>\n",
       "      <td>Female</td>\n",
       "      <td>Alabama</td>\n",
       "      <td>31</td>\n",
       "      <td>2/17/2019</td>\n",
       "      <td>3</td>\n",
       "      <td>married</td>\n",
       "      <td>40423</td>\n",
       "      <td>beverages</td>\n",
       "      <td>South</td>\n",
       "      <td>young</td>\n",
       "    </tr>\n",
       "    <tr>\n",
       "      <th>4</th>\n",
       "      <td>431534</td>\n",
       "      <td>1</td>\n",
       "      <td>5</td>\n",
       "      <td>4</td>\n",
       "      <td>15</td>\n",
       "      <td>28.0</td>\n",
       "      <td>196</td>\n",
       "      <td>1</td>\n",
       "      <td>1</td>\n",
       "      <td>Soda</td>\n",
       "      <td>...</td>\n",
       "      <td>Female</td>\n",
       "      <td>Alabama</td>\n",
       "      <td>31</td>\n",
       "      <td>2/17/2019</td>\n",
       "      <td>3</td>\n",
       "      <td>married</td>\n",
       "      <td>40423</td>\n",
       "      <td>beverages</td>\n",
       "      <td>South</td>\n",
       "      <td>young</td>\n",
       "    </tr>\n",
       "    <tr>\n",
       "      <th>5</th>\n",
       "      <td>3367565</td>\n",
       "      <td>1</td>\n",
       "      <td>6</td>\n",
       "      <td>2</td>\n",
       "      <td>7</td>\n",
       "      <td>19.0</td>\n",
       "      <td>196</td>\n",
       "      <td>1</td>\n",
       "      <td>1</td>\n",
       "      <td>Soda</td>\n",
       "      <td>...</td>\n",
       "      <td>Female</td>\n",
       "      <td>Alabama</td>\n",
       "      <td>31</td>\n",
       "      <td>2/17/2019</td>\n",
       "      <td>3</td>\n",
       "      <td>married</td>\n",
       "      <td>40423</td>\n",
       "      <td>beverages</td>\n",
       "      <td>South</td>\n",
       "      <td>young</td>\n",
       "    </tr>\n",
       "    <tr>\n",
       "      <th>6</th>\n",
       "      <td>550135</td>\n",
       "      <td>1</td>\n",
       "      <td>7</td>\n",
       "      <td>1</td>\n",
       "      <td>9</td>\n",
       "      <td>20.0</td>\n",
       "      <td>196</td>\n",
       "      <td>1</td>\n",
       "      <td>1</td>\n",
       "      <td>Soda</td>\n",
       "      <td>...</td>\n",
       "      <td>Female</td>\n",
       "      <td>Alabama</td>\n",
       "      <td>31</td>\n",
       "      <td>2/17/2019</td>\n",
       "      <td>3</td>\n",
       "      <td>married</td>\n",
       "      <td>40423</td>\n",
       "      <td>beverages</td>\n",
       "      <td>South</td>\n",
       "      <td>young</td>\n",
       "    </tr>\n",
       "    <tr>\n",
       "      <th>7</th>\n",
       "      <td>3108588</td>\n",
       "      <td>1</td>\n",
       "      <td>8</td>\n",
       "      <td>1</td>\n",
       "      <td>14</td>\n",
       "      <td>14.0</td>\n",
       "      <td>196</td>\n",
       "      <td>2</td>\n",
       "      <td>1</td>\n",
       "      <td>Soda</td>\n",
       "      <td>...</td>\n",
       "      <td>Female</td>\n",
       "      <td>Alabama</td>\n",
       "      <td>31</td>\n",
       "      <td>2/17/2019</td>\n",
       "      <td>3</td>\n",
       "      <td>married</td>\n",
       "      <td>40423</td>\n",
       "      <td>beverages</td>\n",
       "      <td>South</td>\n",
       "      <td>young</td>\n",
       "    </tr>\n",
       "    <tr>\n",
       "      <th>8</th>\n",
       "      <td>2295261</td>\n",
       "      <td>1</td>\n",
       "      <td>9</td>\n",
       "      <td>1</td>\n",
       "      <td>16</td>\n",
       "      <td>0.0</td>\n",
       "      <td>196</td>\n",
       "      <td>4</td>\n",
       "      <td>1</td>\n",
       "      <td>Soda</td>\n",
       "      <td>...</td>\n",
       "      <td>Female</td>\n",
       "      <td>Alabama</td>\n",
       "      <td>31</td>\n",
       "      <td>2/17/2019</td>\n",
       "      <td>3</td>\n",
       "      <td>married</td>\n",
       "      <td>40423</td>\n",
       "      <td>beverages</td>\n",
       "      <td>South</td>\n",
       "      <td>young</td>\n",
       "    </tr>\n",
       "    <tr>\n",
       "      <th>9</th>\n",
       "      <td>2550362</td>\n",
       "      <td>1</td>\n",
       "      <td>10</td>\n",
       "      <td>4</td>\n",
       "      <td>8</td>\n",
       "      <td>30.0</td>\n",
       "      <td>196</td>\n",
       "      <td>1</td>\n",
       "      <td>1</td>\n",
       "      <td>Soda</td>\n",
       "      <td>...</td>\n",
       "      <td>Female</td>\n",
       "      <td>Alabama</td>\n",
       "      <td>31</td>\n",
       "      <td>2/17/2019</td>\n",
       "      <td>3</td>\n",
       "      <td>married</td>\n",
       "      <td>40423</td>\n",
       "      <td>beverages</td>\n",
       "      <td>South</td>\n",
       "      <td>young</td>\n",
       "    </tr>\n",
       "  </tbody>\n",
       "</table>\n",
       "<p>10 rows × 33 columns</p>\n",
       "</div>"
      ],
      "text/plain": [
       "   order_id  user_id  order_number  order_day_of_week  order_hour_of_day  \\\n",
       "0   2539329        1             1                  2                  8   \n",
       "1   2398795        1             2                  3                  7   \n",
       "2    473747        1             3                  3                 12   \n",
       "3   2254736        1             4                  4                  7   \n",
       "4    431534        1             5                  4                 15   \n",
       "5   3367565        1             6                  2                  7   \n",
       "6    550135        1             7                  1                  9   \n",
       "7   3108588        1             8                  1                 14   \n",
       "8   2295261        1             9                  1                 16   \n",
       "9   2550362        1            10                  4                  8   \n",
       "\n",
       "   days_since_prior_order  product_id  add_to_cart_order  reordered  \\\n",
       "0                     NaN         196                  1          0   \n",
       "1                    15.0         196                  1          1   \n",
       "2                    21.0         196                  1          1   \n",
       "3                    29.0         196                  1          1   \n",
       "4                    28.0         196                  1          1   \n",
       "5                    19.0         196                  1          1   \n",
       "6                    20.0         196                  1          1   \n",
       "7                    14.0         196                  2          1   \n",
       "8                     0.0         196                  4          1   \n",
       "9                    30.0         196                  1          1   \n",
       "\n",
       "  product_name  ...  gender    state  age date_joined n_dependants fam_status  \\\n",
       "0         Soda  ...  Female  Alabama   31   2/17/2019            3    married   \n",
       "1         Soda  ...  Female  Alabama   31   2/17/2019            3    married   \n",
       "2         Soda  ...  Female  Alabama   31   2/17/2019            3    married   \n",
       "3         Soda  ...  Female  Alabama   31   2/17/2019            3    married   \n",
       "4         Soda  ...  Female  Alabama   31   2/17/2019            3    married   \n",
       "5         Soda  ...  Female  Alabama   31   2/17/2019            3    married   \n",
       "6         Soda  ...  Female  Alabama   31   2/17/2019            3    married   \n",
       "7         Soda  ...  Female  Alabama   31   2/17/2019            3    married   \n",
       "8         Soda  ...  Female  Alabama   31   2/17/2019            3    married   \n",
       "9         Soda  ...  Female  Alabama   31   2/17/2019            3    married   \n",
       "\n",
       "  income  department region  age_group  \n",
       "0  40423   beverages  South      young  \n",
       "1  40423   beverages  South      young  \n",
       "2  40423   beverages  South      young  \n",
       "3  40423   beverages  South      young  \n",
       "4  40423   beverages  South      young  \n",
       "5  40423   beverages  South      young  \n",
       "6  40423   beverages  South      young  \n",
       "7  40423   beverages  South      young  \n",
       "8  40423   beverages  South      young  \n",
       "9  40423   beverages  South      young  \n",
       "\n",
       "[10 rows x 33 columns]"
      ]
     },
     "execution_count": 5,
     "metadata": {},
     "output_type": "execute_result"
    }
   ],
   "source": [
    "print('df shape: ', df.shape)\n",
    "df.head(10)"
   ]
  },
  {
   "cell_type": "code",
   "execution_count": 6,
   "id": "5b34192b",
   "metadata": {},
   "outputs": [
    {
     "data": {
      "text/html": [
       "<div>\n",
       "<style scoped>\n",
       "    .dataframe tbody tr th:only-of-type {\n",
       "        vertical-align: middle;\n",
       "    }\n",
       "\n",
       "    .dataframe tbody tr th {\n",
       "        vertical-align: top;\n",
       "    }\n",
       "\n",
       "    .dataframe thead th {\n",
       "        text-align: right;\n",
       "    }\n",
       "</style>\n",
       "<table border=\"1\" class=\"dataframe\">\n",
       "  <thead>\n",
       "    <tr style=\"text-align: right;\">\n",
       "      <th></th>\n",
       "      <th>order_id</th>\n",
       "      <th>user_id</th>\n",
       "      <th>order_number</th>\n",
       "      <th>order_day_of_week</th>\n",
       "      <th>order_hour_of_day</th>\n",
       "      <th>days_since_prior_order</th>\n",
       "      <th>product_id</th>\n",
       "      <th>add_to_cart_order</th>\n",
       "      <th>reordered</th>\n",
       "      <th>aisle_id</th>\n",
       "      <th>department_id</th>\n",
       "      <th>prices</th>\n",
       "      <th>max_order</th>\n",
       "      <th>mean_price</th>\n",
       "      <th>median_days_since_prior_order</th>\n",
       "      <th>age</th>\n",
       "      <th>n_dependants</th>\n",
       "      <th>income</th>\n",
       "    </tr>\n",
       "  </thead>\n",
       "  <tbody>\n",
       "    <tr>\n",
       "      <th>count</th>\n",
       "      <td>3.096456e+07</td>\n",
       "      <td>3.096456e+07</td>\n",
       "      <td>3.096456e+07</td>\n",
       "      <td>3.096456e+07</td>\n",
       "      <td>3.096456e+07</td>\n",
       "      <td>2.930328e+07</td>\n",
       "      <td>3.096456e+07</td>\n",
       "      <td>3.096456e+07</td>\n",
       "      <td>3.096456e+07</td>\n",
       "      <td>3.096456e+07</td>\n",
       "      <td>3.096456e+07</td>\n",
       "      <td>3.095969e+07</td>\n",
       "      <td>3.096456e+07</td>\n",
       "      <td>3.096456e+07</td>\n",
       "      <td>3.096456e+07</td>\n",
       "      <td>3.096456e+07</td>\n",
       "      <td>3.096456e+07</td>\n",
       "      <td>3.096456e+07</td>\n",
       "    </tr>\n",
       "    <tr>\n",
       "      <th>mean</th>\n",
       "      <td>1.710317e+06</td>\n",
       "      <td>1.029284e+05</td>\n",
       "      <td>1.783414e+01</td>\n",
       "      <td>2.741397e+00</td>\n",
       "      <td>1.341098e+01</td>\n",
       "      <td>1.081030e+01</td>\n",
       "      <td>2.559850e+04</td>\n",
       "      <td>8.363038e+00</td>\n",
       "      <td>6.061019e-01</td>\n",
       "      <td>7.118859e+01</td>\n",
       "      <td>9.922365e+00</td>\n",
       "      <td>7.790590e+00</td>\n",
       "      <td>3.442569e+01</td>\n",
       "      <td>1.193352e+01</td>\n",
       "      <td>9.957140e+00</td>\n",
       "      <td>4.946803e+01</td>\n",
       "      <td>1.501819e+00</td>\n",
       "      <td>9.967587e+04</td>\n",
       "    </tr>\n",
       "    <tr>\n",
       "      <th>std</th>\n",
       "      <td>9.873785e+05</td>\n",
       "      <td>5.947061e+04</td>\n",
       "      <td>1.763442e+01</td>\n",
       "      <td>2.089254e+00</td>\n",
       "      <td>4.248845e+00</td>\n",
       "      <td>8.578590e+00</td>\n",
       "      <td>1.408096e+04</td>\n",
       "      <td>7.135399e+00</td>\n",
       "      <td>4.886127e-01</td>\n",
       "      <td>3.822194e+01</td>\n",
       "      <td>6.282441e+00</td>\n",
       "      <td>4.240595e+00</td>\n",
       "      <td>2.489504e+01</td>\n",
       "      <td>7.992284e+01</td>\n",
       "      <td>6.666137e+00</td>\n",
       "      <td>1.848528e+01</td>\n",
       "      <td>1.118896e+00</td>\n",
       "      <td>4.314187e+04</td>\n",
       "    </tr>\n",
       "    <tr>\n",
       "      <th>min</th>\n",
       "      <td>2.000000e+00</td>\n",
       "      <td>1.000000e+00</td>\n",
       "      <td>1.000000e+00</td>\n",
       "      <td>0.000000e+00</td>\n",
       "      <td>0.000000e+00</td>\n",
       "      <td>0.000000e+00</td>\n",
       "      <td>1.000000e+00</td>\n",
       "      <td>1.000000e+00</td>\n",
       "      <td>0.000000e+00</td>\n",
       "      <td>1.000000e+00</td>\n",
       "      <td>1.000000e+00</td>\n",
       "      <td>1.000000e+00</td>\n",
       "      <td>5.000000e+00</td>\n",
       "      <td>1.000000e+00</td>\n",
       "      <td>0.000000e+00</td>\n",
       "      <td>1.800000e+01</td>\n",
       "      <td>0.000000e+00</td>\n",
       "      <td>2.590300e+04</td>\n",
       "    </tr>\n",
       "    <tr>\n",
       "      <th>25%</th>\n",
       "      <td>8.554120e+05</td>\n",
       "      <td>5.140900e+04</td>\n",
       "      <td>5.000000e+00</td>\n",
       "      <td>1.000000e+00</td>\n",
       "      <td>1.000000e+01</td>\n",
       "      <td>5.000000e+00</td>\n",
       "      <td>1.354400e+04</td>\n",
       "      <td>3.000000e+00</td>\n",
       "      <td>0.000000e+00</td>\n",
       "      <td>3.100000e+01</td>\n",
       "      <td>4.000000e+00</td>\n",
       "      <td>4.200000e+00</td>\n",
       "      <td>1.400000e+01</td>\n",
       "      <td>7.392889e+00</td>\n",
       "      <td>6.000000e+00</td>\n",
       "      <td>3.300000e+01</td>\n",
       "      <td>1.000000e+00</td>\n",
       "      <td>6.729200e+04</td>\n",
       "    </tr>\n",
       "    <tr>\n",
       "      <th>50%</th>\n",
       "      <td>1.710404e+06</td>\n",
       "      <td>1.025860e+05</td>\n",
       "      <td>1.200000e+01</td>\n",
       "      <td>3.000000e+00</td>\n",
       "      <td>1.300000e+01</td>\n",
       "      <td>7.000000e+00</td>\n",
       "      <td>2.528800e+04</td>\n",
       "      <td>6.000000e+00</td>\n",
       "      <td>1.000000e+00</td>\n",
       "      <td>8.300000e+01</td>\n",
       "      <td>9.000000e+00</td>\n",
       "      <td>7.400000e+00</td>\n",
       "      <td>2.800000e+01</td>\n",
       "      <td>7.825143e+00</td>\n",
       "      <td>7.000000e+00</td>\n",
       "      <td>4.900000e+01</td>\n",
       "      <td>2.000000e+00</td>\n",
       "      <td>9.676500e+04</td>\n",
       "    </tr>\n",
       "    <tr>\n",
       "      <th>75%</th>\n",
       "      <td>2.565206e+06</td>\n",
       "      <td>1.543870e+05</td>\n",
       "      <td>2.500000e+01</td>\n",
       "      <td>5.000000e+00</td>\n",
       "      <td>1.600000e+01</td>\n",
       "      <td>1.400000e+01</td>\n",
       "      <td>3.794700e+04</td>\n",
       "      <td>1.100000e+01</td>\n",
       "      <td>1.000000e+00</td>\n",
       "      <td>1.070000e+02</td>\n",
       "      <td>1.600000e+01</td>\n",
       "      <td>1.130000e+01</td>\n",
       "      <td>4.800000e+01</td>\n",
       "      <td>8.249596e+00</td>\n",
       "      <td>1.250000e+01</td>\n",
       "      <td>6.500000e+01</td>\n",
       "      <td>3.000000e+00</td>\n",
       "      <td>1.281020e+05</td>\n",
       "    </tr>\n",
       "    <tr>\n",
       "      <th>max</th>\n",
       "      <td>3.421083e+06</td>\n",
       "      <td>2.062090e+05</td>\n",
       "      <td>9.900000e+01</td>\n",
       "      <td>6.000000e+00</td>\n",
       "      <td>2.300000e+01</td>\n",
       "      <td>3.000000e+01</td>\n",
       "      <td>4.968800e+04</td>\n",
       "      <td>1.450000e+02</td>\n",
       "      <td>1.000000e+00</td>\n",
       "      <td>1.340000e+02</td>\n",
       "      <td>2.100000e+01</td>\n",
       "      <td>2.500000e+01</td>\n",
       "      <td>9.900000e+01</td>\n",
       "      <td>1.500694e+04</td>\n",
       "      <td>3.000000e+01</td>\n",
       "      <td>8.100000e+01</td>\n",
       "      <td>3.000000e+00</td>\n",
       "      <td>5.939010e+05</td>\n",
       "    </tr>\n",
       "  </tbody>\n",
       "</table>\n",
       "</div>"
      ],
      "text/plain": [
       "           order_id       user_id  order_number  order_day_of_week  \\\n",
       "count  3.096456e+07  3.096456e+07  3.096456e+07       3.096456e+07   \n",
       "mean   1.710317e+06  1.029284e+05  1.783414e+01       2.741397e+00   \n",
       "std    9.873785e+05  5.947061e+04  1.763442e+01       2.089254e+00   \n",
       "min    2.000000e+00  1.000000e+00  1.000000e+00       0.000000e+00   \n",
       "25%    8.554120e+05  5.140900e+04  5.000000e+00       1.000000e+00   \n",
       "50%    1.710404e+06  1.025860e+05  1.200000e+01       3.000000e+00   \n",
       "75%    2.565206e+06  1.543870e+05  2.500000e+01       5.000000e+00   \n",
       "max    3.421083e+06  2.062090e+05  9.900000e+01       6.000000e+00   \n",
       "\n",
       "       order_hour_of_day  days_since_prior_order    product_id  \\\n",
       "count       3.096456e+07            2.930328e+07  3.096456e+07   \n",
       "mean        1.341098e+01            1.081030e+01  2.559850e+04   \n",
       "std         4.248845e+00            8.578590e+00  1.408096e+04   \n",
       "min         0.000000e+00            0.000000e+00  1.000000e+00   \n",
       "25%         1.000000e+01            5.000000e+00  1.354400e+04   \n",
       "50%         1.300000e+01            7.000000e+00  2.528800e+04   \n",
       "75%         1.600000e+01            1.400000e+01  3.794700e+04   \n",
       "max         2.300000e+01            3.000000e+01  4.968800e+04   \n",
       "\n",
       "       add_to_cart_order     reordered      aisle_id  department_id  \\\n",
       "count       3.096456e+07  3.096456e+07  3.096456e+07   3.096456e+07   \n",
       "mean        8.363038e+00  6.061019e-01  7.118859e+01   9.922365e+00   \n",
       "std         7.135399e+00  4.886127e-01  3.822194e+01   6.282441e+00   \n",
       "min         1.000000e+00  0.000000e+00  1.000000e+00   1.000000e+00   \n",
       "25%         3.000000e+00  0.000000e+00  3.100000e+01   4.000000e+00   \n",
       "50%         6.000000e+00  1.000000e+00  8.300000e+01   9.000000e+00   \n",
       "75%         1.100000e+01  1.000000e+00  1.070000e+02   1.600000e+01   \n",
       "max         1.450000e+02  1.000000e+00  1.340000e+02   2.100000e+01   \n",
       "\n",
       "             prices     max_order    mean_price  \\\n",
       "count  3.095969e+07  3.096456e+07  3.096456e+07   \n",
       "mean   7.790590e+00  3.442569e+01  1.193352e+01   \n",
       "std    4.240595e+00  2.489504e+01  7.992284e+01   \n",
       "min    1.000000e+00  5.000000e+00  1.000000e+00   \n",
       "25%    4.200000e+00  1.400000e+01  7.392889e+00   \n",
       "50%    7.400000e+00  2.800000e+01  7.825143e+00   \n",
       "75%    1.130000e+01  4.800000e+01  8.249596e+00   \n",
       "max    2.500000e+01  9.900000e+01  1.500694e+04   \n",
       "\n",
       "       median_days_since_prior_order           age  n_dependants        income  \n",
       "count                   3.096456e+07  3.096456e+07  3.096456e+07  3.096456e+07  \n",
       "mean                    9.957140e+00  4.946803e+01  1.501819e+00  9.967587e+04  \n",
       "std                     6.666137e+00  1.848528e+01  1.118896e+00  4.314187e+04  \n",
       "min                     0.000000e+00  1.800000e+01  0.000000e+00  2.590300e+04  \n",
       "25%                     6.000000e+00  3.300000e+01  1.000000e+00  6.729200e+04  \n",
       "50%                     7.000000e+00  4.900000e+01  2.000000e+00  9.676500e+04  \n",
       "75%                     1.250000e+01  6.500000e+01  3.000000e+00  1.281020e+05  \n",
       "max                     3.000000e+01  8.100000e+01  3.000000e+00  5.939010e+05  "
      ]
     },
     "execution_count": 6,
     "metadata": {},
     "output_type": "execute_result"
    }
   ],
   "source": [
    "df.describe()"
   ]
  },
  {
   "cell_type": "code",
   "execution_count": 7,
   "id": "d0b88708",
   "metadata": {},
   "outputs": [
    {
     "data": {
      "text/plain": [
       "Index(['order_id', 'user_id', 'order_number', 'order_day_of_week',\n",
       "       'order_hour_of_day', 'days_since_prior_order', 'product_id',\n",
       "       'add_to_cart_order', 'reordered', 'product_name', 'aisle_id',\n",
       "       'department_id', 'prices', 'price_range_loc', 'busiest_day',\n",
       "       'busiest_days', 'busiest_period_of_day', 'max_order', 'loyalty_flag',\n",
       "       'mean_price', 'spending_flag', 'median_days_since_prior_order',\n",
       "       'frequency_flag', 'gender', 'state', 'age', 'date_joined',\n",
       "       'n_dependants', 'fam_status', 'income', 'department', 'region',\n",
       "       'age_group'],\n",
       "      dtype='object')"
      ]
     },
     "execution_count": 7,
     "metadata": {},
     "output_type": "execute_result"
    }
   ],
   "source": [
    "df.columns"
   ]
  },
  {
   "cell_type": "markdown",
   "id": "b4dd8f50",
   "metadata": {},
   "source": [
    "## 3.0 Profile Analysis"
   ]
  },
  {
   "cell_type": "markdown",
   "id": "a808f6fb",
   "metadata": {},
   "source": [
    "### Create a profiling variable for income\n"
   ]
  },
  {
   "cell_type": "code",
   "execution_count": 8,
   "id": "c0034d06",
   "metadata": {},
   "outputs": [],
   "source": [
    "#starting with high\n",
    "df.loc[df['income'] > 400000, 'income_range'] = 'high'"
   ]
  },
  {
   "cell_type": "code",
   "execution_count": 9,
   "id": "b2eec35f",
   "metadata": {},
   "outputs": [],
   "source": [
    "# then mid\n",
    "df.loc[(df['income'] >=200000) & (df['income'] <= 400000), 'income_range'] = 'mid'"
   ]
  },
  {
   "cell_type": "code",
   "execution_count": 10,
   "id": "3a2995ac",
   "metadata": {},
   "outputs": [],
   "source": [
    "#then under 200k\n",
    "df.loc[df['income'] < 200000, 'income_range'] = 'low'"
   ]
  },
  {
   "cell_type": "code",
   "execution_count": 11,
   "id": "2b26cd0b",
   "metadata": {},
   "outputs": [
    {
     "data": {
      "text/plain": [
       "income_range\n",
       "low     30710422\n",
       "mid       207146\n",
       "high       46996\n",
       "Name: count, dtype: int64"
      ]
     },
     "execution_count": 11,
     "metadata": {},
     "output_type": "execute_result"
    }
   ],
   "source": [
    "#check the value counts\n",
    "df['income_range'].value_counts(dropna = False)"
   ]
  },
  {
   "cell_type": "markdown",
   "id": "99bcd660",
   "metadata": {},
   "source": [
    "### Take a look at departments\n"
   ]
  },
  {
   "cell_type": "code",
   "execution_count": 12,
   "id": "ccd81533",
   "metadata": {},
   "outputs": [
    {
     "data": {
      "text/plain": [
       "department\n",
       "produce            9079273\n",
       "dairy eggs         5177182\n",
       "snacks             2766406\n",
       "beverages          2571901\n",
       "frozen             2121731\n",
       "pantry             1782705\n",
       "bakery             1120828\n",
       "canned goods       1012074\n",
       "deli               1003834\n",
       "dry goods pasta     822136\n",
       "household           699857\n",
       "meat seafood        674781\n",
       "breakfast           670850\n",
       "personal care       424306\n",
       "babies              410392\n",
       "international       255991\n",
       "alcohol             144627\n",
       "pets                 93060\n",
       "missing              64768\n",
       "other                34411\n",
       "bulk                 33451\n",
       "Name: count, dtype: int64"
      ]
     },
     "execution_count": 12,
     "metadata": {},
     "output_type": "execute_result"
    }
   ],
   "source": [
    "#check out the values\n",
    "df.department.value_counts(dropna = False)"
   ]
  },
  {
   "cell_type": "code",
   "execution_count": 13,
   "id": "045944a2",
   "metadata": {},
   "outputs": [
    {
     "data": {
      "text/plain": [
       "fam_status\n",
       "married                             21743711\n",
       "single                               5094410\n",
       "divorced/widowed                     2645271\n",
       "living with parents and siblings     1481172\n",
       "Name: count, dtype: int64"
      ]
     },
     "execution_count": 13,
     "metadata": {},
     "output_type": "execute_result"
    }
   ],
   "source": [
    "# Take a look at family status\n",
    "df.fam_status.value_counts(dropna = False)"
   ]
  },
  {
   "cell_type": "code",
   "execution_count": 14,
   "id": "7ac058bb",
   "metadata": {},
   "outputs": [
    {
     "data": {
      "text/plain": [
       "n_dependants\n",
       "3    7772516\n",
       "0    7739681\n",
       "2    7733261\n",
       "1    7719106\n",
       "Name: count, dtype: int64"
      ]
     },
     "execution_count": 14,
     "metadata": {},
     "output_type": "execute_result"
    }
   ],
   "source": [
    "#checking  the kids\n",
    "df.n_dependants.value_counts(dropna = False)"
   ]
  },
  {
   "cell_type": "markdown",
   "id": "f473ee5b",
   "metadata": {},
   "source": [
    "## Looking at parents"
   ]
  },
  {
   "cell_type": "code",
   "execution_count": 15,
   "id": "26557d32",
   "metadata": {},
   "outputs": [],
   "source": [
    "# creating a subset of parents\n",
    "df_parents = df.loc[df['n_dependants'] >= 1]"
   ]
  },
  {
   "cell_type": "code",
   "execution_count": 16,
   "id": "8f664df7",
   "metadata": {},
   "outputs": [
    {
     "data": {
      "text/plain": [
       "(23224883, 34)"
      ]
     },
     "execution_count": 16,
     "metadata": {},
     "output_type": "execute_result"
    }
   ],
   "source": [
    "# how big is it?\n",
    "df_parents.shape"
   ]
  },
  {
   "cell_type": "code",
   "execution_count": 17,
   "id": "fd2a187a",
   "metadata": {},
   "outputs": [
    {
     "data": {
      "text/plain": [
       "fam_status\n",
       "married                             21743711\n",
       "living with parents and siblings     1481172\n",
       "Name: count, dtype: int64"
      ]
     },
     "execution_count": 17,
     "metadata": {},
     "output_type": "execute_result"
    }
   ],
   "source": [
    "df_parents['fam_status'].value_counts(dropna = False)"
   ]
  },
  {
   "cell_type": "code",
   "execution_count": 18,
   "id": "f968cf54",
   "metadata": {},
   "outputs": [
    {
     "data": {
      "text/plain": [
       "income_range\n",
       "low     23035347\n",
       "mid       154655\n",
       "high       34881\n",
       "Name: count, dtype: int64"
      ]
     },
     "execution_count": 18,
     "metadata": {},
     "output_type": "execute_result"
    }
   ],
   "source": [
    "df_parents['income_range'].value_counts(dropna = False)"
   ]
  },
  {
   "cell_type": "code",
   "execution_count": 19,
   "id": "c6f728b4",
   "metadata": {},
   "outputs": [
    {
     "data": {
      "text/html": [
       "<div>\n",
       "<style scoped>\n",
       "    .dataframe tbody tr th:only-of-type {\n",
       "        vertical-align: middle;\n",
       "    }\n",
       "\n",
       "    .dataframe tbody tr th {\n",
       "        vertical-align: top;\n",
       "    }\n",
       "\n",
       "    .dataframe thead th {\n",
       "        text-align: right;\n",
       "    }\n",
       "</style>\n",
       "<table border=\"1\" class=\"dataframe\">\n",
       "  <thead>\n",
       "    <tr style=\"text-align: right;\">\n",
       "      <th></th>\n",
       "      <th>days_since_prior_order</th>\n",
       "    </tr>\n",
       "  </thead>\n",
       "  <tbody>\n",
       "    <tr>\n",
       "      <th>min</th>\n",
       "      <td>0.000000</td>\n",
       "    </tr>\n",
       "    <tr>\n",
       "      <th>max</th>\n",
       "      <td>30.000000</td>\n",
       "    </tr>\n",
       "    <tr>\n",
       "      <th>mean</th>\n",
       "      <td>10.816416</td>\n",
       "    </tr>\n",
       "  </tbody>\n",
       "</table>\n",
       "</div>"
      ],
      "text/plain": [
       "      days_since_prior_order\n",
       "min                 0.000000\n",
       "max                30.000000\n",
       "mean               10.816416"
      ]
     },
     "execution_count": 19,
     "metadata": {},
     "output_type": "execute_result"
    }
   ],
   "source": [
    "\n",
    "df_parents.agg({'days_since_prior_order' : ['min', 'max', 'mean']})"
   ]
  },
  {
   "cell_type": "code",
   "execution_count": 20,
   "id": "a7ab792a",
   "metadata": {},
   "outputs": [
    {
     "data": {
      "text/html": [
       "<div>\n",
       "<style scoped>\n",
       "    .dataframe tbody tr th:only-of-type {\n",
       "        vertical-align: middle;\n",
       "    }\n",
       "\n",
       "    .dataframe tbody tr th {\n",
       "        vertical-align: top;\n",
       "    }\n",
       "\n",
       "    .dataframe thead th {\n",
       "        text-align: right;\n",
       "    }\n",
       "</style>\n",
       "<table border=\"1\" class=\"dataframe\">\n",
       "  <thead>\n",
       "    <tr style=\"text-align: right;\">\n",
       "      <th></th>\n",
       "      <th>prices</th>\n",
       "    </tr>\n",
       "  </thead>\n",
       "  <tbody>\n",
       "    <tr>\n",
       "      <th>min</th>\n",
       "      <td>1.000000</td>\n",
       "    </tr>\n",
       "    <tr>\n",
       "      <th>max</th>\n",
       "      <td>25.000000</td>\n",
       "    </tr>\n",
       "    <tr>\n",
       "      <th>mean</th>\n",
       "      <td>7.790937</td>\n",
       "    </tr>\n",
       "  </tbody>\n",
       "</table>\n",
       "</div>"
      ],
      "text/plain": [
       "         prices\n",
       "min    1.000000\n",
       "max   25.000000\n",
       "mean   7.790937"
      ]
     },
     "execution_count": 20,
     "metadata": {},
     "output_type": "execute_result"
    }
   ],
   "source": [
    "# look at parents spending\n",
    "df_parents.agg({'prices' : ['min', 'max', 'mean']})"
   ]
  },
  {
   "cell_type": "code",
   "execution_count": 21,
   "id": "5cdcf45e",
   "metadata": {},
   "outputs": [
    {
     "data": {
      "text/plain": [
       "department\n",
       "produce            6803832\n",
       "dairy eggs         3882806\n",
       "snacks             2075968\n",
       "beverages          1926560\n",
       "frozen             1592383\n",
       "pantry             1338801\n",
       "bakery              839433\n",
       "canned goods        761054\n",
       "deli                750452\n",
       "dry goods pasta     617840\n",
       "household           528499\n",
       "meat seafood        508903\n",
       "breakfast           504418\n",
       "personal care       318101\n",
       "babies              307064\n",
       "international       191530\n",
       "alcohol             107800\n",
       "pets                 69458\n",
       "missing              48833\n",
       "other                25697\n",
       "bulk                 25451\n",
       "Name: count, dtype: int64"
      ]
     },
     "execution_count": 21,
     "metadata": {},
     "output_type": "execute_result"
    }
   ],
   "source": [
    "# look at their departments\n",
    "df_parents['department'].value_counts(dropna = False)"
   ]
  },
  {
   "cell_type": "markdown",
   "id": "89eb3951",
   "metadata": {},
   "source": [
    "### lets chart parents, and df departments so we can see if there is a significant difference"
   ]
  },
  {
   "cell_type": "code",
   "execution_count": 22,
   "id": "ca0964cc",
   "metadata": {},
   "outputs": [
    {
     "data": {
      "image/png": "[encoded data removed]",
      "text/plain": [
       "<Figure size 800x500 with 1 Axes>"
      ]
     },
     "metadata": {},
     "output_type": "display_data"
    }
   ],
   "source": [
    "\n",
    "#create a figure space\n",
    "department_bar_fig, ax = plt.subplots(figsize =(8, 5))\n",
    "#create a bar chart in there\n",
    "department_bar = df['department'].value_counts(dropna = False).plot.bar(colormap = 'Pastel2', ax = ax)\n",
    "#stop scientific numbers\n",
    "ax.yaxis.get_major_formatter().set_scientific(False)"
   ]
  },
  {
   "cell_type": "code",
   "execution_count": 23,
   "id": "43022b4e",
   "metadata": {},
   "outputs": [
    {
     "data": {
      "image/png": "[encoded data removed]",
      "text/plain": [
       "<Figure size 800x500 with 1 Axes>"
      ]
     },
     "metadata": {},
     "output_type": "display_data"
    }
   ],
   "source": [
    "#parents bar\n",
    "#create a figure space\n",
    "parent_department_bar_fig, ax = plt.subplots(figsize =(8, 5))\n",
    "#create a bar chart in there\n",
    "parent_department_bar = df_parents['department'].value_counts(dropna = False).plot.bar(colormap = 'Pastel2', ax = ax)\n",
    "#stop scientific numbers\n",
    "ax.yaxis.get_major_formatter().set_scientific(False)"
   ]
  },
  {
   "cell_type": "code",
   "execution_count": 24,
   "id": "838ea605",
   "metadata": {},
   "outputs": [
    {
     "data": {
      "image/png": "[encoded data removed]",
      "text/plain": [
       "<Figure size 800x500 with 1 Axes>"
      ]
     },
     "metadata": {},
     "output_type": "display_data"
    }
   ],
   "source": [
    "#low income parents\n",
    "#create a figure space\n",
    "low_income_parents_department_bar_fig, ax = plt.subplots(figsize =(8, 5))\n",
    "#create a bar chart in there\n",
    "low_income_parents_department_bar = df_parents.loc[df_parents['income_range'] == 'low']['department'].value_counts(dropna = False).plot.bar(colormap = 'tab20', ax = ax)\n",
    "#stop scientific numbers\n",
    "ax.yaxis.get_major_formatter().set_scientific(False)"
   ]
  },
  {
   "cell_type": "markdown",
   "id": "7894ca19",
   "metadata": {},
   "source": [
    "## Single out the married no kids\n"
   ]
  },
  {
   "cell_type": "code",
   "execution_count": 25,
   "id": "0cafc186",
   "metadata": {},
   "outputs": [],
   "source": [
    "# create a subset of married no kids\n",
    "df_married_no_kids = df.loc[(df['fam_status'] == 'married') & (df['n_dependants'] < 1)]"
   ]
  },
  {
   "cell_type": "code",
   "execution_count": 26,
   "id": "7705ba5c",
   "metadata": {},
   "outputs": [
    {
     "data": {
      "text/plain": [
       "Series([], Name: count, dtype: int64)"
      ]
     },
     "execution_count": 26,
     "metadata": {},
     "output_type": "execute_result"
    }
   ],
   "source": [
    "# plot their departments\n",
    "df_married_no_kids['department'].value_counts(dropna = False)"
   ]
  },
  {
   "cell_type": "code",
   "execution_count": 27,
   "id": "57d49235",
   "metadata": {},
   "outputs": [
    {
     "data": {
      "text/plain": [
       "(0, 34)"
      ]
     },
     "execution_count": 27,
     "metadata": {},
     "output_type": "execute_result"
    }
   ],
   "source": [
    "df_married_no_kids.shape"
   ]
  },
  {
   "cell_type": "markdown",
   "id": "43deb11a",
   "metadata": {},
   "source": [
    "#### There are none"
   ]
  },
  {
   "cell_type": "code",
   "execution_count": 28,
   "id": "60159b37",
   "metadata": {},
   "outputs": [
    {
     "data": {
      "text/plain": [
       "Index(['order_id', 'user_id', 'order_number', 'order_day_of_week',\n",
       "       'order_hour_of_day', 'days_since_prior_order', 'product_id',\n",
       "       'add_to_cart_order', 'reordered', 'product_name', 'aisle_id',\n",
       "       'department_id', 'prices', 'price_range_loc', 'busiest_day',\n",
       "       'busiest_days', 'busiest_period_of_day', 'max_order', 'loyalty_flag',\n",
       "       'mean_price', 'spending_flag', 'median_days_since_prior_order',\n",
       "       'frequency_flag', 'gender', 'state', 'age', 'date_joined',\n",
       "       'n_dependants', 'fam_status', 'income', 'department', 'region',\n",
       "       'age_group', 'income_range'],\n",
       "      dtype='object')"
      ]
     },
     "execution_count": 28,
     "metadata": {},
     "output_type": "execute_result"
    }
   ],
   "source": [
    "df.columns"
   ]
  },
  {
   "cell_type": "code",
   "execution_count": null,
   "id": "c826674f",
   "metadata": {},
   "outputs": [],
   "source": []
  }
 ],
 "metadata": {
  "kernelspec": {
   "display_name": "Python 3 (ipykernel)",
   "language": "python",
   "name": "python3"
  },
  "language_info": {
   "codemirror_mode": {
    "name": "ipython",
    "version": 3
   },
   "file_extension": ".py",
   "mimetype": "text/x-python",
   "name": "python",
   "nbconvert_exporter": "python",
   "pygments_lexer": "ipython3",
   "version": "3.11.4"
  }
 },
 "nbformat": 4,
 "nbformat_minor": 5
}
